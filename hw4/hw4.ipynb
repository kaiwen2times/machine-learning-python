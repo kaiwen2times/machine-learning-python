{
 "cells": [
  {
   "cell_type": "code",
   "execution_count": 1,
   "metadata": {},
   "outputs": [],
   "source": [
    "%matplotlib inline\n",
    "\n",
    "import numpy as np\n",
    "import matplotlib.pyplot as plt\n",
    "from scipy.optimize import minimize\n",
    "from matplotlib import cm\n",
    "from mapFeature import mapFeature\n",
    "from plotDecisionBoundary import plotDecisionBoundary\n",
    "from costFunctionLogisticRegression import costFunctionLogisticRegression\n",
    "from gradientLogisticRegression import gradientLogisticRegression"
   ]
  },
  {
   "cell_type": "markdown",
   "metadata": {},
   "source": [
    "## Logistic regression"
   ]
  },
  {
   "cell_type": "code",
   "execution_count": 4,
   "metadata": {},
   "outputs": [
    {
     "data": {
      "image/png": "[encoded data removed]",
      "text/plain": [
       "<matplotlib.figure.Figure at 0x7f9bd1cef2e8>"
      ]
     },
     "metadata": {},
     "output_type": "display_data"
    },
    {
     "name": "stdout",
     "output_type": "stream",
     "text": [
      "Logistic regression cost with regularization: 0.6931\n",
      "(28,)\n"
     ]
    }
   ],
   "source": [
    "# load the data\n",
    "data = np.loadtxt('ex2data2.txt', delimiter=',')\n",
    "X = data[:,0:2]\n",
    "y = data[:,2].reshape((-1,1))\n",
    "\n",
    "index0 = np.where(y==0)[0]\n",
    "index1 = np.where(y==1)[0]\n",
    "\n",
    "# plot the data\n",
    "plt.plot(X[index0,0], X[index0,1], 'ro')\n",
    "plt.plot(X[index1,0], X[index1,1], 'g+')\n",
    "plt.xlabel('Microchip Test 1', fontsize=12)\n",
    "plt.ylabel('Microchip Test 2', fontsize=12)\n",
    "plt.legend(['y = 0', 'y = 1'])\n",
    "plt.show()\n",
    "\n",
    "# the data points that are not% linearly separable. However, you would still like to use logistic\n",
    "# regression to classify the data points\n",
    "# to do so, you introduce more features to use -- in particular, you add\n",
    "# polynomial features to our data matrix (similar to polynomial regression).\n",
    "# note that mapFeature also adds a column of ones for us, so the intercept\n",
    "# term is handled\n",
    "degree = 6\n",
    "Xdata = mapFeature(X[:,0], X[:,1], degree)\n",
    "initial_theta = np.zeros((Xdata.shape[1],1))\n",
    "\n",
    "# set regularization parameter lambda to 1\n",
    "lam = 1\n",
    "\n",
    "# compute and display initial cost and gradient for regularized logistic regression\n",
    "cost = costFunctionLogisticRegression(initial_theta, Xdata, y, lam)\n",
    "\n",
    "print('Logistic regression cost with regularization: %.4f' % cost)\n",
    "\n",
    "result = minimize(costFunctionLogisticRegression, initial_theta, args=(Xdata, y, lam), jac=gradientLogisticRegression)\n",
    "print(result.x.shape)"
   ]
  },
  {
   "cell_type": "code",
   "execution_count": null,
   "metadata": {},
   "outputs": [],
   "source": []
  },
  {
   "cell_type": "code",
   "execution_count": null,
   "metadata": {},
   "outputs": [],
   "source": []
  },
  {
   "cell_type": "code",
   "execution_count": null,
   "metadata": {},
   "outputs": [],
   "source": []
  }
 ],
 "metadata": {
  "kernelspec": {
   "display_name": "Python 3",
   "language": "python",
   "name": "python3"
  },
  "language_info": {
   "codemirror_mode": {
    "name": "ipython",
    "version": 3
   },
   "file_extension": ".py",
   "mimetype": "text/x-python",
   "name": "python",
   "nbconvert_exporter": "python",
   "pygments_lexer": "ipython3",
   "version": "3.6.3"
  }
 },
 "nbformat": 4,
 "nbformat_minor": 2
}
