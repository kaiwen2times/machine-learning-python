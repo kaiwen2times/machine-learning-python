{
 "cells": [
  {
   "cell_type": "markdown",
   "metadata": {},
   "source": [
    "## Clasification tree"
   ]
  },
  {
   "cell_type": "code",
   "execution_count": null,
   "metadata": {},
   "outputs": [],
   "source": [
    "# load Training Data- Andrew Ng Machine Learning MOOC\n",
    "data = loadmat('ex3data1.mat')\n",
    "X = data['X']\n",
    "y = data['y']\n",
    "\n",
    "n = X.shape[0]\n",
    "num_labels = np.unique(y).size\n",
    " \n",
    "# randomly select 100 data points to display\n",
    "np.random.seed(2000)\n",
    "rand_indices = randperm(n);\n",
    "sel = X(rand_indices(1:100), :);\n",
    " \n",
    "%displayData(sel);\n",
    "%print -djpeg95 hwk4_4.jpg\n",
    " \n",
    "Xdata =X;\n",
    " \n",
    "%ClassificationTree\n",
    "tree = ClassificationTree.fit(Xdata,y);\n",
    "maxprune = max(tree.PruneList);\n",
    "treePrune = prune(tree,'level',maxprune-3);\n",
    "view(treePrune,'mode','graph');\n",
    "pred = predict(tree,Xdata);\n",
    "subplot(2,1,1);\n",
    "hold off; plot(y,'g','linewidth',2); hold on; plot(pred,'b','linewidth',2);\n",
    "subplot(2,1,2);\n",
    "plot(y-pred,'k','linewidth',3);\n",
    "mse = (1/length(y))*sum((y-pred).^2);  %0.7964\n",
    "fprintf('MSE for regular classification tree: %f \\n ',mse);\n",
    " \n",
    "%BaggedTree\n",
    "rng(2000);  %random number generator seed\n",
    "t = ClassificationTree.template('MinLeaf',1);\n",
    "bagtree = fitensemble(Xdata,y,'Bag',10,t,'type','classification');\n",
    "ypred = predict(bagtree,Xdata);  %really should test with a test set here\n",
    "figure\n",
    "subplot(2,1,1);\n",
    "hold off; plot(y,'g','linewidth',2); hold on; plot(ypred,'b','linewidth',2);\n",
    "subplot(2,1,2);\n",
    "plot(y-ypred,'k','linewidth',3);\n",
    "msebag = (1/length(y))*sum((y-ypred).^2);  %0.0884\n",
    "fprintf('MSE for bagged classification tree: %f \\n ',msebag);\n"
   ]
  },
  {
   "cell_type": "code",
   "execution_count": null,
   "metadata": {},
   "outputs": [],
   "source": []
  },
  {
   "cell_type": "code",
   "execution_count": null,
   "metadata": {},
   "outputs": [],
   "source": []
  },
  {
   "cell_type": "code",
   "execution_count": null,
   "metadata": {},
   "outputs": [],
   "source": []
  },
  {
   "cell_type": "code",
   "execution_count": null,
   "metadata": {},
   "outputs": [],
   "source": []
  },
  {
   "cell_type": "code",
   "execution_count": null,
   "metadata": {},
   "outputs": [],
   "source": []
  },
  {
   "cell_type": "code",
   "execution_count": null,
   "metadata": {},
   "outputs": [],
   "source": []
  },
  {
   "cell_type": "code",
   "execution_count": null,
   "metadata": {},
   "outputs": [],
   "source": []
  }
 ],
 "metadata": {
  "kernelspec": {
   "display_name": "Python 3",
   "language": "python",
   "name": "python3"
  },
  "language_info": {
   "codemirror_mode": {
    "name": "ipython",
    "version": 3
   },
   "file_extension": ".py",
   "mimetype": "text/x-python",
   "name": "python",
   "nbconvert_exporter": "python",
   "pygments_lexer": "ipython3",
   "version": "3.6.3"
  }
 },
 "nbformat": 4,
 "nbformat_minor": 2
}
