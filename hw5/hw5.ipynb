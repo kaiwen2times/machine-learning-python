{
 "cells": [
  {
   "cell_type": "code",
   "execution_count": 47,
   "metadata": {},
   "outputs": [],
   "source": [
    "%matplotlib inline\n",
    "\n",
    "import pdb\n",
    "import numpy as np\n",
    "import graphviz\n",
    "import matplotlib.pyplot as plt\n",
    "from sklearn import tree\n",
    "from sklearn.ensemble import BaggingClassifier\n",
    "from scipy.io import loadmat"
   ]
  },
  {
   "cell_type": "markdown",
   "metadata": {},
   "source": [
    "## Decision tree"
   ]
  },
  {
   "cell_type": "code",
   "execution_count": 48,
   "metadata": {},
   "outputs": [
    {
     "data": {
      "image/png": "[encoded data removed]",
      "text/plain": [
       "<matplotlib.figure.Figure at 0x7f7dfc4e6828>"
      ]
     },
     "metadata": {},
     "output_type": "display_data"
    },
    {
     "name": "stdout",
     "output_type": "stream",
     "text": [
      "MSE for decision tree: 0.17 \n",
      " \n"
     ]
    }
   ],
   "source": [
    "# load Training Data Andrew Ng Machine Learning MOOC\n",
    "data = loadmat('ex3data1.mat')\n",
    "X = data['X']\n",
    "y = data['y']\n",
    "\n",
    "n = X.shape[0]\n",
    "num_labels = np.unique(y).size\n",
    "\n",
    "# seed random number generator\n",
    "np.random.seed(2000)\n",
    "\n",
    "# classification tree\n",
    "clf = tree.DecisionTreeClassifier(min_samples_split=3)\n",
    "clf = clf.fit(X, y)\n",
    "\n",
    "# tree_data = tree.export_graphviz(clf, out_file=None, filled=True, rounded=True) \n",
    "# graph = graphviz.Source(tree_data)\n",
    "# graph\n",
    "\n",
    "pred = clf.predict(X).reshape((-1,1))\n",
    "\n",
    "# plot results\n",
    "plt.subplot(211)\n",
    "plt.plot(y,'g', linewidth=1)\n",
    "plt.plot(pred,'b', linewidth=1)\n",
    "plt.subplot(212)\n",
    "plt.plot(y - pred, 'k', linewidth=2);\n",
    "plt.show()\n",
    "\n",
    "# calculate mean square error\n",
    "mse = (1 / len(y)) * np.sum((y - pred)**2)\n",
    "print('MSE for decision tree: %.2f \\n ' % mse)"
   ]
  },
  {
   "cell_type": "markdown",
   "metadata": {},
   "source": [
    "## Bagged tree"
   ]
  },
  {
   "cell_type": "code",
   "execution_count": 51,
   "metadata": {},
   "outputs": [
    {
     "data": {
      "image/png": "[encoded data removed]",
      "text/plain": [
       "<matplotlib.figure.Figure at 0x7f7dfc5a9668>"
      ]
     },
     "metadata": {},
     "output_type": "display_data"
    },
    {
     "name": "stdout",
     "output_type": "stream",
     "text": [
      "MSE for decision tree: 0.04 \n",
      " \n"
     ]
    }
   ],
   "source": [
    "# load Training Data Andrew Ng Machine Learning MOOC\n",
    "data = loadmat('ex3data1.mat')\n",
    "X = data['X']\n",
    "y = data['y']\n",
    "\n",
    "n = X.shape[0]\n",
    "num_labels = np.unique(y).size\n",
    "\n",
    "# seed random number generator\n",
    "np.random.seed(2000)\n",
    "\n",
    "# classification tree\n",
    "d_tree = tree.DecisionTreeClassifier(min_samples_split=3)\n",
    "clf = BaggingClassifier(d_tree)\n",
    "clf = clf.fit(X, y.flatten())\n",
    "pred = clf.predict(X).reshape((-1,1))\n",
    "\n",
    "# plot results\n",
    "plt.subplot(211)\n",
    "plt.plot(y,'g', linewidth=1)\n",
    "plt.plot(pred,'b', linewidth=1)\n",
    "plt.subplot(212)\n",
    "plt.plot(y - pred, 'k', linewidth=2);\n",
    "plt.show()\n",
    "\n",
    "# calculate mean square error\n",
    "mse = (1 / len(y)) * np.sum((y - pred)**2)\n",
    "print('MSE for bagging tree: %.2f \\n ' % mse)"
   ]
  },
  {
   "cell_type": "code",
   "execution_count": null,
   "metadata": {},
   "outputs": [],
   "source": []
  },
  {
   "cell_type": "code",
   "execution_count": null,
   "metadata": {},
   "outputs": [],
   "source": []
  },
  {
   "cell_type": "code",
   "execution_count": null,
   "metadata": {},
   "outputs": [],
   "source": []
  },
  {
   "cell_type": "code",
   "execution_count": null,
   "metadata": {},
   "outputs": [],
   "source": []
  },
  {
   "cell_type": "code",
   "execution_count": null,
   "metadata": {},
   "outputs": [],
   "source": []
  }
 ],
 "metadata": {
  "kernelspec": {
   "display_name": "Python 3",
   "language": "python",
   "name": "python3"
  },
  "language_info": {
   "codemirror_mode": {
    "name": "ipython",
    "version": 3
   },
   "file_extension": ".py",
   "mimetype": "text/x-python",
   "name": "python",
   "nbconvert_exporter": "python",
   "pygments_lexer": "ipython3",
   "version": "3.6.3"
  }
 },
 "nbformat": 4,
 "nbformat_minor": 2
}
