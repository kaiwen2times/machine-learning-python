{
 "cells": [
  {
   "cell_type": "code",
   "execution_count": 30,
   "metadata": {},
   "outputs": [],
   "source": [
    "%matplotlib inline\n",
    "\n",
    "import pdb\n",
    "import numpy as np\n",
    "import graphviz\n",
    "import matplotlib.pyplot as plt\n",
    "from sklearn import tree\n",
    "from sklearn.ensemble import BaggingClassifier\n",
    "from sklearn.model_selection import KFold\n",
    "from sklearn.metrics import confusion_matrix\n",
    "from sklearn.metrics import accuracy_score\n",
    "from scipy.io import loadmat\n",
    "from mapFeature import mapFeature\n",
    "from sigmoid import sigmoid\n",
    "from costFunctionLogisticRegression import costFunctionLogisticRegression\n",
    "from gradientLogisticRegression import gradientLogisticRegression\n"
   ]
  },
  {
   "cell_type": "markdown",
   "metadata": {},
   "source": [
    "## Decision tree"
   ]
  },
  {
   "cell_type": "code",
   "execution_count": 31,
   "metadata": {},
   "outputs": [
    {
     "data": {
      "image/png": "[encoded data removed]",
      "text/plain": [
       "<matplotlib.figure.Figure at 0x7f29420d2a58>"
      ]
     },
     "metadata": {},
     "output_type": "display_data"
    },
    {
     "name": "stdout",
     "output_type": "stream",
     "text": [
      "MSE for decision tree: 0.16 \n",
      " \n"
     ]
    }
   ],
   "source": [
    "# load Training Data Andrew Ng Machine Learning MOOC\n",
    "data = loadmat('ex3data1.mat')\n",
    "X = data['X']\n",
    "y = data['y']\n",
    "\n",
    "n = X.shape[0]\n",
    "num_labels = np.unique(y).size\n",
    "\n",
    "# classification tree\n",
    "clf = tree.DecisionTreeClassifier(min_samples_split=3)\n",
    "clf = clf.fit(X, y)\n",
    "\n",
    "# tree_data = tree.export_graphviz(clf, out_file=None, filled=True, rounded=True) \n",
    "# graph = graphviz.Source(tree_data)\n",
    "# graph\n",
    "\n",
    "pred = clf.predict(X).reshape((-1,1))\n",
    "\n",
    "# plot results\n",
    "plt.subplot(211)\n",
    "plt.plot(y,'g', linewidth=1)\n",
    "plt.plot(pred,'b', linewidth=1)\n",
    "plt.subplot(212)\n",
    "plt.plot(y - pred, 'k', linewidth=2);\n",
    "plt.show()\n",
    "\n",
    "# calculate mean square error\n",
    "mse = (1 / len(y)) * np.sum((y - pred)**2)\n",
    "print('MSE for decision tree: %.2f \\n ' % mse)\n"
   ]
  },
  {
   "cell_type": "markdown",
   "metadata": {},
   "source": [
    "## Bagged tree"
   ]
  },
  {
   "cell_type": "code",
   "execution_count": 32,
   "metadata": {},
   "outputs": [
    {
     "data": {
      "image/png": "[encoded data removed]",
      "text/plain": [
       "<matplotlib.figure.Figure at 0x7f294e50acc0>"
      ]
     },
     "metadata": {},
     "output_type": "display_data"
    },
    {
     "name": "stdout",
     "output_type": "stream",
     "text": [
      "MSE for bagging tree: 0.08 \n",
      " \n"
     ]
    }
   ],
   "source": [
    "# load Training Data Andrew Ng Machine Learning MOOC\n",
    "data = loadmat('ex3data1.mat')\n",
    "X = data['X']\n",
    "y = data['y']\n",
    "\n",
    "n = X.shape[0]\n",
    "num_labels = np.unique(y).size\n",
    "\n",
    "# classification tree\n",
    "d_tree = tree.DecisionTreeClassifier(min_samples_split=3)\n",
    "clf = BaggingClassifier(d_tree)\n",
    "clf = clf.fit(X, y.flatten())\n",
    "pred = clf.predict(X).reshape((-1,1))\n",
    "\n",
    "# plot results\n",
    "plt.subplot(211)\n",
    "plt.plot(y,'g', linewidth=1)\n",
    "plt.plot(pred,'b', linewidth=1)\n",
    "plt.subplot(212)\n",
    "plt.plot(y - pred, 'k', linewidth=2);\n",
    "plt.show()\n",
    "\n",
    "# calculate mean square error\n",
    "mse = (1 / len(y)) * np.sum((y - pred)**2)\n",
    "print('MSE for bagging tree: %.2f \\n ' % mse)\n"
   ]
  },
  {
   "cell_type": "markdown",
   "metadata": {},
   "source": [
    "## Classification with cross validation"
   ]
  },
  {
   "cell_type": "code",
   "execution_count": 33,
   "metadata": {},
   "outputs": [
    {
     "name": "stdout",
     "output_type": "stream",
     "text": [
      "confusion matrix: \n",
      " [[440   9   9   5   8   6   5  15   2   1]\n",
      " [ 12 353  34  20   8  10  25  21   8   9]\n",
      " [  8  31 362  11  27   2  18  24  14   3]\n",
      " [  9  10   5 402  11  17   7  10  25   4]\n",
      " [ 12  11  43  15 348  14  10  20  19   8]\n",
      " [  2  15   3  23  27 407   5  12   1   5]\n",
      " [  7  15   8  12  11   4 403  10  24   6]\n",
      " [ 12  31  29  15  27  14   7 346  16   3]\n",
      " [  6   8  15  24  20   3  18  14 388   4]\n",
      " [  0  12   2   2  11   4   4  12   4 449]] \n",
      "\n",
      "DecisionTree: Lambda = 0, accuracy using confusion matrix = 77.96% \n",
      "\n",
      "DecisionTree: Lambda = 0, accuracy using scikit learn = 77.96% \n",
      "\n"
     ]
    }
   ],
   "source": [
    "# load the data\n",
    "data = loadmat('ex3data1.mat')\n",
    "X = data['X']\n",
    "y = data['y']\n",
    "\n",
    "n = X.shape[0]\n",
    "num_labels = np.unique(y).size\n",
    "\n",
    "# add bias to X\n",
    "bias = np.ones((n,1))\n",
    "Xdata = np.hstack((bias,X))\n",
    "\n",
    "# holding out 20% of the data for testing \n",
    "num_folds = 5\n",
    "lam = 0.1\n",
    "\n",
    "# classification method to use\n",
    "method = 'DecisionTree'\n",
    "\n",
    "# seed random number generator\n",
    "np.random.seed(2000)\n",
    "\n",
    "kf = KFold(n_splits=num_folds, shuffle=True)\n",
    "predictions = np.zeros((y.size))\n",
    "\n",
    "for train_index, test_index in kf.split(Xdata):\n",
    "    trainCV, testCV = Xdata[train_index], Xdata[test_index]\n",
    "    trainGT, testGT = y[train_index], y[test_index]\n",
    "    \n",
    "    if method == 'LogisticRegression':\n",
    "        # initialize theta to store all theta for each label\n",
    "        all_theta = np.zeros((num_labels,Xdata.shape[1]))\n",
    "        for c in range(1, num_labels+1):\n",
    "            initial_theta = np.zeros((Xdata.shape[1],1))\n",
    "            #pdb.set_trace()\n",
    "            labeledGT = ((trainGT == c) * 1).reshape((-1,1))\n",
    "            grad = gradientLogisticRegression(initial_theta, Xdata, y, lam)\n",
    "\n",
    "            # optimize theta\n",
    "            theta = fmin_bfgs(costFunctionLogisticRegression, grad, args=(trainCV, labeledGT, lam), \\\n",
    "                      fprime=gradientLogisticRegression, disp=False)\n",
    "\n",
    "            all_theta[c-1,:] = theta\n",
    "        #end\n",
    "        h = sigmoid(np.dot(testCV, all_theta.T))\n",
    "        h[h >= threshold] = 1\n",
    "        h[h < threshold] = 0\n",
    "    elif method == 'KNN':\n",
    "        knn = KNeighborsClassifier(n_neighbors=3, algorithm='auto')\n",
    "        knn.fit(trainCV, trainGT.flatten())\n",
    "        h = knn.predict(testCV)\n",
    "    elif method == 'DecisionTree':\n",
    "        clf = tree.DecisionTreeClassifier(min_samples_split=3)\n",
    "        clf = clf.fit(trainCV, trainGT)\n",
    "        h = clf.predict(testCV)\n",
    "    elif method == 'BaggedTree':\n",
    "        d_tree = tree.DecisionTreeClassifier(min_samples_split=3)\n",
    "        clf = BaggingClassifier(d_tree)\n",
    "        clf = clf.fit(trainCV, trainGT.flatten())\n",
    "        pred = clf.predict(testCV)\n",
    "    else:\n",
    "        print('Unknown classification method')\n",
    "    # end\n",
    "    \n",
    "    # gather predictions from each run\n",
    "    predictions[test_index] = h\n",
    "# end\n",
    "\n",
    "# generate confusion matrix\n",
    "confusion_mat = confusion_matrix(y, predictions)\n",
    "print('confusion matrix: \\n', confusion_mat, '\\n')\n",
    "\n",
    "# calculate accuracy from confusion matrix\n",
    "accuracy1 = np.sum( np.diag(confusion_mat) ) / np.sum(confusion_mat)\n",
    "print('%s: Lambda = %d, accuracy using confusion matrix = %.2f%% \\n' % (method,lam,accuracy1*100))\n",
    "\n",
    "# calculate accuracy from accuracy_score\n",
    "accuracy2 = accuracy_score(y, predictions)\n",
    "print('%s: Lambda = %d, accuracy using scikit learn = %.2f%% \\n' % (method,lam,accuracy2*100))\n"
   ]
  },
  {
   "cell_type": "markdown",
   "metadata": {},
   "source": [
    "## Adaboost"
   ]
  },
  {
   "cell_type": "code",
   "execution_count": 34,
   "metadata": {},
   "outputs": [
    {
     "name": "stdout",
     "output_type": "stream",
     "text": [
      "confusion matrix: \n",
      " [[105  40]\n",
      " [ 25 175]] \n",
      "\n",
      "Adaboost: iterations = 200, accuracy using confusion matrix = 81.16% \n",
      "\n",
      "Adaboost: iterations = 200, accuracy using scikit learn = 81.16% \n",
      "\n"
     ]
    }
   ],
   "source": [
    "data = np.loadtxt('bupa.csv', delimiter=',')\n",
    "X = data[:, 0:-2]\n",
    "y = data[:, -1]\n",
    "\n",
    "mn = np.amin(y)\n",
    "mx = np.amax(y)\n",
    "\n",
    "# convert y to [-1, 1]\n",
    "GT = 2 * ((y - mn) / (mx - mn)) - 1\n",
    "\n",
    "# number of samples and features\n",
    "ns, nf = X.shape\n",
    "weights = np.ones(ns) / ns\n",
    "\n",
    "iters = 200\n",
    "preds = np.zeros(ns)\n",
    "\n",
    "for t in range(iters):\n",
    "    h = tree.DecisionTreeClassifier(max_depth=1)\n",
    "    h.fit(X, GT, sample_weight=weights)\n",
    "    pred = h.predict(X)\n",
    "    \n",
    "    errs = (pred != GT)\n",
    "    eps = weights.dot(errs)\n",
    "    alpha = (np.log(1 - eps) - np.log(eps)) / 2\n",
    "    \n",
    "    updated_weights = weights * np.exp(-alpha * GT * pred)\n",
    "    # normalize updated weights\n",
    "    weights = updated_weights / updated_weights.sum()\n",
    "    \n",
    "    # prediction using alpha and weak classifier\n",
    "    preds = preds + alpha * pred\n",
    "# end\n",
    "\n",
    "preds = np.sign(preds)\n",
    "\n",
    "# generate confusion matrix\n",
    "confusion_mat = confusion_matrix(GT, preds)\n",
    "print('confusion matrix: \\n', confusion_mat, '\\n')\n",
    "\n",
    "# calculate accuracy from confusion matrix\n",
    "accuracy1 = np.sum( np.diag(confusion_mat) ) / np.sum(confusion_mat)\n",
    "print('Adaboost: iterations = %d, accuracy using confusion matrix = %.2f%% \\n' % (iters,accuracy1*100))\n",
    "\n",
    "# calculate accuracy from accuracy_score\n",
    "accuracy2 = accuracy_score(GT, preds)\n",
    "print('Adaboost: iterations = %d, accuracy using scikit learn = %.2f%% \\n' % (iters,accuracy2*100))\n"
   ]
  },
  {
   "cell_type": "code",
   "execution_count": null,
   "metadata": {},
   "outputs": [],
   "source": []
  }
 ],
 "metadata": {
  "kernelspec": {
   "display_name": "Python 3",
   "language": "python",
   "name": "python3"
  },
  "language_info": {
   "codemirror_mode": {
    "name": "ipython",
    "version": 3
   },
   "file_extension": ".py",
   "mimetype": "text/x-python",
   "name": "python",
   "nbconvert_exporter": "python",
   "pygments_lexer": "ipython3",
   "version": "3.6.3"
  }
 },
 "nbformat": 4,
 "nbformat_minor": 2
}
