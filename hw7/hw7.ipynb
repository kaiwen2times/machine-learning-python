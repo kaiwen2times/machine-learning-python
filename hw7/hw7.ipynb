{
 "cells": [
  {
   "cell_type": "code",
   "execution_count": 5,
   "metadata": {},
   "outputs": [],
   "source": [
    "%matplotlib inline\n",
    "\n",
    "import pdb\n",
    "import numpy as np\n",
    "import tensorflow as tf\n",
    "from scipy.io import loadmat\n",
    "import matplotlib.pyplot as plt\n",
    "\n",
    "import warnings\n",
    "warnings.filterwarnings('ignore')"
   ]
  },
  {
   "cell_type": "markdown",
   "metadata": {},
   "source": [
    "## Neural net cost function with regularization"
   ]
  },
  {
   "cell_type": "code",
   "execution_count": 19,
   "metadata": {},
   "outputs": [],
   "source": [
    "def nn_cost_function(nn_params, input_layer_size, hidden_layer_size,\n",
    "                     num_labels, X, y, lam):\n",
    "    # nn_cost_function Implements the neural network cost function for a two layer\n",
    "    # neural network which performs classification\n",
    "    #   J = nn_cost_function(nn_params, hidden_layer_size, num_labels,\n",
    "    #   X, y, lambda) computes the cost and gradient of the neural network. The\n",
    "    #   parameters for the neural network are \"unrolled\" into the vector\n",
    "    #   nn_params and need to be converted back into the weight matrices.\n",
    "    #\n",
    "    #   The returned parameter grad should be a \"unrolled\" vector of the\n",
    "    #   partial derivatives of the neural network.\n",
    "\n",
    "    # Reshape nn_params back into the parameters theta1 and theta2\n",
    "    # for our 2 hidden-layer neural network\n",
    "    theta1 = nn_params['Theta1'] #25x401\n",
    "    theta2 = nn_params['Theta2'] #10x26\n",
    "    \n",
    "    J = 0\n",
    "    num_samples = X.shape[0]\n",
    "    theta1_grad = np.zeros(theta1.shape)\n",
    "    theta2_grad = np.zeros(theta2.shape)\n",
    "\n",
    "    # add bias to the input data\n",
    "    bias = np.ones((num_samples, 1))\n",
    "    X1 = np.concatenate((bias, X), axis=1)\n",
    "    \n",
    "    # forward propagate\n",
    "    layer1 = sigmoid(theta1.dot(X1.T))\n",
    "    bias = np.ones((1, layer1.shape[1]))\n",
    "    layer2 = np.concatenate((bias, layer1), axis=0)\n",
    "    output = sigmoid(theta2.dot(layer2))\n",
    "\n",
    "    # reshape y to nn format, one hot encoding\n",
    "    ynn = np.zeros((num_samples, num_labels))\n",
    "    for i in range(num_samples):\n",
    "        ynn[i, y[i] -1] = 1 # column 10 represents digit 0\n",
    "    #end\n",
    "    ynn = ynn.T\n",
    "    \n",
    "    # cost function - first without regularization\n",
    "    J = (-1 / num_samples) * np.sum(np.sum( ynn * np.log(output) + (1 - ynn) * np.log(1 - output) ))\n",
    "    \n",
    "    # cost function - first with regularization\n",
    "    sum_layer1 = np.sum(np.sum( theta1[:, 1:-1] **2 ))\n",
    "    sum_layer2 = np.sum(np.sum( theta2[:, 1:-1] **2 ))\n",
    "    reg = (lam / (2 * num_samples)) * (sum_layer1 + sum_layer2)\n",
    "    J = J + reg\n",
    "\n",
    "    return J\n",
    "#end\n"
   ]
  },
  {
   "cell_type": "markdown",
   "metadata": {},
   "source": [
    "## ## Neural net cost function gradient"
   ]
  },
  {
   "cell_type": "code",
   "execution_count": 20,
   "metadata": {},
   "outputs": [],
   "source": [
    "def nn_cost_function_gradient(nn_params, input_layer_size, hidden_layer_size, \n",
    "                              num_labels, X, y, lam):\n",
    "    # nn_cost_function Implements the neural network cost function for a two layer\n",
    "    # neural network which performs classification\n",
    "    #   grad = nn_cost_function(nn_params, hidden_layer_size, num_labels,\n",
    "    #   X, y, lambda) computes the cost and gradient of the neural network. The\n",
    "    #   parameters for the neural network are \"unrolled\" into the vector\n",
    "    #   nn_params and need to be converted back into the weight matrices.\n",
    "    #\n",
    "    #   The returned parameter grad should be a \"unrolled\" vector of the\n",
    "    #   partial derivatives of the neural network.\n",
    "\n",
    "    # Reshape nn_params back into the parameters theta1 and theta2\n",
    "    # for our 2 hidden-layer neural network\n",
    "    \n",
    "    theta1 = nn_params['Theta1'] #25x401\n",
    "    theta2 = nn_params['Theta2'] #10x26\n",
    "    \n",
    "    num_samples = X.shape[0]\n",
    "    theta1_grad = np.zeros(theta1.shape)\n",
    "    theta2_grad = np.zeros(theta2.shape)\n",
    "\n",
    "    # add bias to the input data\n",
    "    bias = np.ones((num_samples, 1))\n",
    "    X1 = np.concatenate((bias, X), axis=1)\n",
    "    \n",
    "    # backpropogation, calculation of gradients\n",
    "    for t in range(num_samples):\n",
    "        # step 1: forward propagate\n",
    "        a1 = X1[t, :]\n",
    "        z2 = theta1.dot(a1.T)\n",
    "        a2 = sigmoid(z2)\n",
    "        z2 = np.insert(z2, 0, 1) # need to account for the bias\n",
    "        a2 = np.insert(a2, 0, 1) # need to account for the bias\n",
    "        z3 = theta2.dot(a2.T)\n",
    "        a3 = sigmoid(z3)\n",
    "        \n",
    "        # step 2: compute error\n",
    "        delta3 = a3 - ynn[:, t]\n",
    "\n",
    "        # step 3: back propagate error through activation function\n",
    "        delta2 = (theta2.T.dot(delta3)) * (a2 * (1 - a2))\n",
    "        # step 4: update weights\n",
    "        theta2_grad = theta2_grad + np.outer(delta3, a2)\n",
    "        theta1_grad = theta1_grad + np.outer(delta2[1:], a1)\n",
    "    # end\n",
    "\n",
    "    # step 5: average gradient update\n",
    "    theta1_grad = theta1_grad / num_samples\n",
    "    theta2_grad = theta2_grad / num_samples\n",
    "    \n",
    "    # regularization\n",
    "    theta1_tmp = np.copy(theta1)\n",
    "    theta1_tmp[:, 0] = 0 # don't regularize bias terms\n",
    "    theta1_grad = theta1_grad + lam * theta1_tmp / num_samples\n",
    "    theta2_tmp = np.copy(theta2)\n",
    "    theta2_tmp[:, 0] = 0\n",
    "    theta2_grad = theta2_grad + lam * theta2_tmp / num_samples\n",
    "\n",
    "    # unroll gradients\n",
    "    theta1_flat = theta1_grad.flatten()\n",
    "    theta2_flat = theta1_grad.flatten()\n",
    "    grad = np.concatenate((theta1_flat, theta2_flat))\n",
    "    \n",
    "    return grad\n",
    "# end\n"
   ]
  },
  {
   "cell_type": "markdown",
   "metadata": {},
   "source": [
    "## Sigmoid function"
   ]
  },
  {
   "cell_type": "code",
   "execution_count": 21,
   "metadata": {},
   "outputs": [],
   "source": [
    "def sigmoid(z):\n",
    "    # sigmoid Compute sigmoid functoon\n",
    "    # g = sigmoid(z) computes the sigmoid of z\n",
    "    g = 1 / (1 + np.exp(-z))\n",
    "    return g\n",
    "# end\n"
   ]
  },
  {
   "cell_type": "markdown",
   "metadata": {},
   "source": [
    "## Classifying MNIST digits from pre-learned weights"
   ]
  },
  {
   "cell_type": "code",
   "execution_count": 18,
   "metadata": {},
   "outputs": [
    {
     "data": {
      "image/png": "[encoded data removed]",
      "text/plain": [
       "<matplotlib.figure.Figure at 0x7f78b8ab65f8>"
      ]
     },
     "metadata": {},
     "output_type": "display_data"
    },
    {
     "name": "stdout",
     "output_type": "stream",
     "text": [
      "Loading saved neural network parameters ...\n",
      "\n",
      "Training neural network... \n",
      "\n",
      "Cost without regularization: 0.2876 \n",
      "\n",
      "Cost with regularization: 0.3811 \n",
      "\n"
     ]
    }
   ],
   "source": [
    "# 5000 Mnist digits\n",
    "data = loadmat('ex4data1.mat')\n",
    "X = data['X']\n",
    "y = data['y']\n",
    "\n",
    "# 5000 samples, 500 from each class\n",
    "n = X.shape[0]\n",
    "\n",
    "# num of pixels per sample\n",
    "d = X.shape[1]\n",
    "\n",
    "# digits from 0 through 9\n",
    "c = np.unique(y).size\n",
    "\n",
    "# randomly select 16 image to display\n",
    "fig = plt.figure()\n",
    "for i in range(1, 17):\n",
    "    index = np.random.randint(low=0, high=4999, size=1)\n",
    "    image = np.reshape(X[index, :], (20, 20))\n",
    "    fig.add_subplot(4, 4, i)\n",
    "    plt.imshow(image)\n",
    "# end\n",
    "plt.show()\n",
    "\n",
    "# load pre-learned weights\n",
    "print('Loading saved neural network parameters ...\\n')\n",
    "weights = loadmat('ex4weights.mat')\n",
    "\n",
    "# cost without regularization\n",
    "print('Training neural network... \\n')\n",
    "lam = 0\n",
    "J = nn_cost_function(weights, n, weights['Theta1'].shape[0], c, X, y, lam)\n",
    "print('Cost without regularization: %2.4f \\n' % J)\n",
    "\n",
    "# cost with regularization\n",
    "lam = 1\n",
    "J = nn_cost_function(weights, n, weights['Theta1'].shape[0], c, X, y, lam)\n",
    "print('Cost with regularization: %2.4f \\n' % J)\n"
   ]
  },
  {
   "cell_type": "markdown",
   "metadata": {},
   "source": [
    "## Classifying MNIST digits from random weights"
   ]
  },
  {
   "cell_type": "code",
   "execution_count": 15,
   "metadata": {},
   "outputs": [
    {
     "name": "stdout",
     "output_type": "stream",
     "text": [
      "initializing neural network narameters ...\n",
      "\n",
      "(25, 401)\n",
      "(10, 26)\n",
      "Training neural network... \n",
      "\n"
     ]
    }
   ],
   "source": [
    "theta1 = weights['Theta1'] #25x401\n",
    "theta2 = weights['Theta2'] #10x26\n",
    "    \n",
    "print('initializing neural network narameters ...\\n')\n",
    "rand_theta1 = np.random.rand(theta1.shape[0], d+1)\n",
    "rand_theta2 = np.random.rand(c, theta1.shape[0]+1)\n",
    "\n",
    "print(rand_theta1.shape)\n",
    "print(rand_theta2.shape)\n",
    "\n",
    "print('Training neural network... \\n')"
   ]
  },
  {
   "cell_type": "code",
   "execution_count": null,
   "metadata": {},
   "outputs": [],
   "source": []
  },
  {
   "cell_type": "code",
   "execution_count": null,
   "metadata": {},
   "outputs": [],
   "source": []
  }
 ],
 "metadata": {
  "kernelspec": {
   "display_name": "Python 3",
   "language": "python",
   "name": "python3"
  },
  "language_info": {
   "codemirror_mode": {
    "name": "ipython",
    "version": 3
   },
   "file_extension": ".py",
   "mimetype": "text/x-python",
   "name": "python",
   "nbconvert_exporter": "python",
   "pygments_lexer": "ipython3",
   "version": "3.6.3"
  }
 },
 "nbformat": 4,
 "nbformat_minor": 2
}
