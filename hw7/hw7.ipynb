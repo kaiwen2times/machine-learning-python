{
 "cells": [
  {
   "cell_type": "code",
   "execution_count": 1,
   "metadata": {},
   "outputs": [
    {
     "name": "stderr",
     "output_type": "stream",
     "text": [
      "/usr/lib/python3.6/importlib/_bootstrap.py:219: RuntimeWarning: compiletime version 3.5 of module 'tensorflow.python.framework.fast_tensor_util' does not match runtime version 3.6\n",
      "  return f(*args, **kwds)\n",
      "/usr/local/lib/python3.6/dist-packages/h5py/__init__.py:36: FutureWarning: Conversion of the second argument of issubdtype from `float` to `np.floating` is deprecated. In future, it will be treated as `np.float64 == np.dtype(float).type`.\n",
      "  from ._conv import register_converters as _register_converters\n"
     ]
    }
   ],
   "source": [
    "%matplotlib inline\n",
    "\n",
    "import pdb\n",
    "import numpy as np\n",
    "import tensorflow as tf\n",
    "from scipy.io import loadmat\n",
    "import matplotlib.pyplot as plt\n",
    "from nnCostFunction import nn_cost_function\n",
    "\n",
    "import warnings\n",
    "warnings.filterwarnings('ignore')"
   ]
  },
  {
   "cell_type": "markdown",
   "metadata": {},
   "source": [
    "## Neural net cost function with regularization"
   ]
  },
  {
   "cell_type": "code",
   "execution_count": 2,
   "metadata": {},
   "outputs": [
    {
     "data": {
      "image/png": "[encoded data removed]",
      "text/plain": [
       "<matplotlib.figure.Figure at 0x7fb551b2a6d8>"
      ]
     },
     "metadata": {},
     "output_type": "display_data"
    },
    {
     "name": "stdout",
     "output_type": "stream",
     "text": [
      "> /root/workplace/machine-learning-python/hw7/nnCostFunction.py(48)nn_cost_function()\n",
      "-> sum_layer1 = np.sum(np.sum( theta1[:, 1:-1] **2 ))\n",
      "(Pdb) n\n",
      "> /root/workplace/machine-learning-python/hw7/nnCostFunction.py(49)nn_cost_function()\n",
      "-> sum_layer2 = np.sum(np.sum( theta2[:, 1:-1] **2 ))\n",
      "(Pdb) n\n",
      "> /root/workplace/machine-learning-python/hw7/nnCostFunction.py(50)nn_cost_function()\n",
      "-> reg = (lam / (2 * num_samples)) * (sum_layer1 + sum_layer2)\n",
      "(Pdb) n\n",
      "> /root/workplace/machine-learning-python/hw7/nnCostFunction.py(51)nn_cost_function()\n",
      "-> J = J + reg\n",
      "(Pdb) c\n"
     ]
    },
    {
     "data": {
      "text/plain": [
       "0.2876291651613188"
      ]
     },
     "execution_count": 2,
     "metadata": {},
     "output_type": "execute_result"
    }
   ],
   "source": [
    "# 5000 Mnist digits\n",
    "data = loadmat('ex4data1.mat')\n",
    "X = data['X']\n",
    "y = data['y']\n",
    "\n",
    "# 5000 samples, 500 from each class\n",
    "n = X.shape[0]\n",
    "\n",
    "# num of pixels per sample\n",
    "d = X.shape[1]\n",
    "\n",
    "# digits from 0 through 9\n",
    "c = np.unique(y).size\n",
    "\n",
    "# randomly select 16 image to display\n",
    "fig = plt.figure()\n",
    "for i in range(1, 17):\n",
    "    index = np.random.randint(low=0, high=4999, size=1)\n",
    "    image = np.reshape(X[index, :], (20, 20))\n",
    "    fig.add_subplot(4, 4, i)\n",
    "    plt.imshow(image)\n",
    "# end\n",
    "plt.show()\n",
    "\n",
    "# load pre-learned weights\n",
    "weights = loadmat('ex4weights.mat')\n",
    "\n",
    "#\n",
    "nn_cost_function(weights, n, weights['Theta1'].shape[0], c, X, y, 0)\n",
    "\n"
   ]
  },
  {
   "cell_type": "code",
   "execution_count": null,
   "metadata": {},
   "outputs": [],
   "source": []
  }
 ],
 "metadata": {
  "kernelspec": {
   "display_name": "Python 3",
   "language": "python",
   "name": "python3"
  },
  "language_info": {
   "codemirror_mode": {
    "name": "ipython",
    "version": 3
   },
   "file_extension": ".py",
   "mimetype": "text/x-python",
   "name": "python",
   "nbconvert_exporter": "python",
   "pygments_lexer": "ipython3",
   "version": "3.6.3"
  }
 },
 "nbformat": 4,
 "nbformat_minor": 2
}
