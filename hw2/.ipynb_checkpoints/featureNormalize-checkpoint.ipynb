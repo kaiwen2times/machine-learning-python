{
 "cells": [
  {
   "cell_type": "code",
   "execution_count": null,
   "metadata": {},
   "outputs": [],
   "source": [
    "import numpy as np\n",
    "\n",
    "def featureNormalize(X):\n",
    "#   FEATURENORMALIZE(C) Normalizes the features in X \n",
    "#   FEATURENORMALIZE(X) returns a normalized version of X where\n",
    "#   the mean value of each feature is 0 and the standard deviation\n",
    "#   is 1. This is often a good preprocessing step to do when\n",
    "#   working with learning algorithms.\n",
    "\n",
    "# You need to set these values correctly\n",
    "X_norm = X;\n",
    "mu = np,zeros(1, X.shape[1];\n",
    "sigma = np.zeros(1, X.shape[1]);\n",
    "\n",
    "mu = mean(X);\n",
    "sigma = std(X);\n",
    "\n",
    "for i=1:length(X)\n",
    "    X_norm(i,:) = (X(i,:)-mu)./sigma;\n",
    "end\n",
    "\n",
    "#X_norm = (X-mu)./sigma;\n"
   ]
  }
 ],
 "metadata": {
  "kernelspec": {
   "display_name": "Python 3",
   "language": "python",
   "name": "python3"
  },
  "language_info": {
   "codemirror_mode": {
    "name": "ipython",
    "version": 3
   },
   "file_extension": ".py",
   "mimetype": "text/x-python",
   "name": "python",
   "nbconvert_exporter": "python",
   "pygments_lexer": "ipython3",
   "version": "3.6.3"
  }
 },
 "nbformat": 4,
 "nbformat_minor": 2
}
